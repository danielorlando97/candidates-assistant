{
 "cells": [
  {
   "cell_type": "code",
   "execution_count": 1,
   "metadata": {},
   "outputs": [],
   "source": [
    "# import PyPDF2\n",
    " \n",
    "# file = open('test.pdf','rb')\n",
    "# pdfReader = PyPDF2.PdfFileReader(file)\n",
    "  \n",
    "# # printing number of pages in pdf file\n",
    "# print(\"Total number of pages in sample.pdf\",pdfReader.numPages)\n",
    "  \n",
    "# # creating a page object\n",
    "# a= pdfReader.get_form_text_fields()\n",
    "# pageObj = pdfReader.getPage(0)\n",
    "# test = pageObj.extractText()\n",
    "# # extracting text from page\n",
    "\n",
    "# # closing the pdf file object\n",
    "# file.close()\n",
    "\n",
    "# test"
   ]
  },
  {
   "cell_type": "code",
   "execution_count": 2,
   "metadata": {},
   "outputs": [],
   "source": [
    "# from pdfminer.high_level import extract_pages\n",
    "# for page_layout in extract_pages(\"test.pdf\"):\n",
    "#     for element in page_layout:\n",
    "#         print(element)"
   ]
  },
  {
   "cell_type": "code",
   "execution_count": 3,
   "metadata": {},
   "outputs": [],
   "source": [
    "# from pdfminer.high_level import extract_pages\n",
    "# from pdfminer.layout import LTTextContainer\n",
    "# for page_layout in extract_pages(\"test.pdf\"):\n",
    "#     for element in page_layout:\n",
    "#         if isinstance(element, LTTextContainer):\n",
    "#             print(element.get_text())"
   ]
  },
  {
   "cell_type": "code",
   "execution_count": 4,
   "metadata": {},
   "outputs": [],
   "source": [
    "# from scrapers.get_on_board import GetOnBoardScraper\n",
    "\n",
    "# scraper = GetOnBoardScraper()\n",
    "# result = scraper.get_many_jobs(2)\n",
    "# len(result)"
   ]
  },
  {
   "cell_type": "code",
   "execution_count": 5,
   "metadata": {},
   "outputs": [],
   "source": [
    "# details = []\n",
    "# for job in result:\n",
    "#     job = scraper.get_details_for_job(job)\n",
    "#     details.append(job)"
   ]
  },
  {
   "cell_type": "code",
   "execution_count": 6,
   "metadata": {},
   "outputs": [],
   "source": [
    "# from db import DBMongoClient\n",
    "\n",
    "# mongo = DBMongoClient()\n",
    "# mongo.insert_jobs(details) "
   ]
  },
  {
   "cell_type": "code",
   "execution_count": 7,
   "metadata": {},
   "outputs": [],
   "source": [
    "# from db import DBMongoClient\n",
    "# mongo = DBMongoClient()\n",
    "\n",
    "# result = list(mongo.offers.aggregate([{\n",
    "#     '$match': {\n",
    "#         'body': {\n",
    "#             '$exists': True\n",
    "#         }\n",
    "#     }\n",
    "# }]))\n"
   ]
  },
  {
   "cell_type": "code",
   "execution_count": 8,
   "metadata": {},
   "outputs": [],
   "source": [
    "# from tokenizer import CustomTokenizer\n",
    "\n",
    "# tokenizer = CustomTokenizer()\n",
    "# for text in result:\n",
    "#     tokenizer.analyze(text['body'], text['_id'])"
   ]
  },
  {
   "cell_type": "code",
   "execution_count": 9,
   "metadata": {},
   "outputs": [],
   "source": [
    "# mongo.insert_tokens(tokenizer.index_list)"
   ]
  },
  {
   "cell_type": "code",
   "execution_count": 2,
   "metadata": {},
   "outputs": [
    {
     "name": "stdout",
     "output_type": "stream",
     "text": [
      "QA Automation (Selenium) https://www.getonbrd.com/empleos/sysadmin-devops-qa/qa-automation-selenium-leniolabs_-remote ['python', 'backend', 'nodejs', 'ia']\n",
      "Software Engineer Senior https://www.getonbrd.com/empleos/programacion/software-engineer-senior-vacasa-remote-3658 ['python', 'javascript']\n",
      "Sr Full-Stack Drupal Developer https://www.getonbrd.com/empleos/programacion/sr-fullstack-drupal-developer-truelogic-software-remote ['backend', 'javascript']\n",
      "Full-Stack Angular + Node.js https://www.getonbrd.com/empleos/programacion/full-stack-angular-node-js-lima-innovation-lab-remote ['backend', 'javascript']\n",
      "Desarrollador Mobile (Práctica) https://www.getonbrd.com/empleos/desarrollo-mobile/desarrollador-mobile-react-native-practica-prtal-remote ['backend', 'javascript']\n",
      "Full-Stack Engineer https://www.getonbrd.com/empleos/programacion/fullstack-backend-merapar-remote ['python', 'nodejs']\n",
      "DevOps 100% Remoto Chile, Perú o Colombia https://www.getonbrd.com/empleos/sysadmin-devops-qa/devops-100-remoto-chile-peru-o-colombia-bc-tecnologia-remote ['python']\n",
      "Senior Software Engineer Cloud Development https://www.getonbrd.com/empleos/sysadmin-devops-qa/senior-software-engineer-cloud-development-softserve-santiago ['javascript']\n",
      "Middle Build Engineer https://www.getonbrd.com/empleos/programacion/middle-build-engineer-softserve-remote ['python']\n",
      "Full-Stack Engineer https://www.getonbrd.com/empleos/programacion/fullstack-engineer-openloop-lima-a93b ['backend']\n"
     ]
    }
   ],
   "source": [
    "# from db import DBMongoClient\n",
    "\n",
    "# keywords = ['python', 'nodejs', 'node', 'javascript', 'backend', 'ia', 'ml', 'intelligence']\n",
    "\n",
    "# mongo = DBMongoClient()\n",
    "# for item in mongo.ranking(keywords):\n",
    "#     print(item['Doc']['name'], item['Doc']['url'], item['tokens'])\n"
   ]
  },
  {
   "cell_type": "code",
   "execution_count": null,
   "metadata": {},
   "outputs": [],
   "source": [
    "import requests\n",
    "from bs4 import BeautifulSoup\n",
    "from inner_core import tools\n",
    "\n",
    "header = {\n",
    "    'user-agent': 'PostmanRuntime/7.29.2'\n",
    "}\n",
    "\n",
    "cookie = \"_fbp=fb.1.1669858596044.1446519388; _ga=GA1.2.2073341839.1669858591; _gid=GA1.2.715111213.1669858591; ln_or=d; PHPSESSID=d998d93ee30e3e1788a3658b4c2e7b27\"\n",
    "\n",
    "data = requests.get(\"https://www.aliantec.com/jm-ajax/get_listings\", headers=header, cookies=tools.cookie_split(cookie))\n"
   ]
  },
  {
   "cell_type": "code",
   "execution_count": 22,
   "metadata": {},
   "outputs": [],
   "source": [
    "import json\n",
    "\n",
    "info = json.loads(data.content.decode())\n",
    "\n",
    "soup = BeautifulSoup(info['html'], 'html.parser')\n",
    "result = []\n",
    "for i, item in enumerate(soup.find_all('li')):\n",
    "    try:\n",
    "        result.append({\n",
    "            'url': item['data-href'],\n",
    "            'name': item['data-title']\n",
    "        })\n",
    "    except KeyError:\n",
    "        pass\n",
    "    \n",
    "len(result)"
   ]
  },
  {
   "cell_type": "code",
   "execution_count": 34,
   "metadata": {},
   "outputs": [],
   "source": [
    "import requests\n",
    "from bs4 import BeautifulSoup\n",
    "from inner_core import tools\n",
    "\n",
    "header = {\n",
    "# \"Origin\": \"https://www.infojobs.net\",\n",
    "# \"Cache-Control\": \"no-cache\",\n",
    "# \"Host\": \"https://www.infojobs.net\",\n",
    "\"User-Agent\": \"Mozilla/5.0 (Macintosh; Intel Mac OS X 10_15_7) AppleWebKit/605.1.15 (KHTML, like Gecko) Version/15.2 Safari/605.1.15\",\n",
    "\"Referer\": \"https://www.infojobs.net/jobsearch/search-results/list.xhtml?keyword=developer&normalizedJobTitleIds=&provinceIds=33&cityIds=&teleworkingIds=&categoryIds=&workdayIds=&educationIds=&segmentId=&contractTypeIds=&page=4&sortBy=PUBLICATION_DATE&onlyForeignCountry=false&countryIds=&sinceDate=ANY&subcategoryIds=\",\n",
    "\"Connection\": 'keep-alive'\n",
    "}\n",
    "query = {\n",
    "\"keyword\":\"Developer\",\n",
    "# \"normalizedJobTitleIds\":\n",
    "# \"provinceIds\":\n",
    "# \"cityIds\":\n",
    "# \"teleworkingIds\":\n",
    "# \"categoryIds\":\n",
    "# \"workdayIds\":\n",
    "# \"educationIds\":\n",
    "# \"segmentId\":\n",
    "# \"contractTypeIds\":\n",
    "\"page\":4,\n",
    "\"sortBy\":\"PUBLICATION_DATE\",\n",
    "\"onlyForeignCountry\":\"false\",\n",
    "# \"countryIds\":\n",
    "\"sinceDate\":\"ANY\",\n",
    "# \"subcategoryIds\":\n",
    "}\n",
    "\n",
    "cookie = \"_csrf=WoV5mZL3ZwLmW64BrCnj9hfDLbpoAkVFPDj8wUJMCSB0JAExH7kW51tAQJs7s1Sfj0gxEt9k6se3rUo9WfSPareR81WitLZ+TbJz+qaD7bg=; AWSALB=wmyAGHOBIHbcwsd8ReDjywr8bTnFTbaFxoi2sIIZiqh6YAMu3JSC9d6xHrOJnlFIUSdC9+darmgV/HivXPDzL3gLR/E0Y1MKPmmJf8Sd3nMUH5Mz3jYUBuP1Z1fP; AWSALBCORS=wmyAGHOBIHbcwsd8ReDjywr8bTnFTbaFxoi2sIIZiqh6YAMu3JSC9d6xHrOJnlFIUSdC9+darmgV/HivXPDzL3gLR/E0Y1MKPmmJf8Sd3nMUH5Mz3jYUBuP1Z1fP\"\n",
    "\n",
    "data = requests.get(\"https://www.infojobs.net/jobsearch/search-results/list.xhtml\", params=query, headers=header ,cookies=tools.cookie_split(cookie))\n",
    "\n",
    "data.content\n",
    "with open('a.html', 'w') as f:\n",
    "    f.write(\n",
    "data.content.decode())"
   ]
  },
  {
   "cell_type": "code",
   "execution_count": 38,
   "metadata": {},
   "outputs": [],
   "source": [
    "import requests\n",
    "from bs4 import BeautifulSoup\n",
    "from inner_core import tools\n",
    "\n",
    "header = {\n",
    "# \"Origin\": \"https://www.infojobs.net\",\n",
    "# \"Cache-Control\": \"no-cache\",\n",
    "# \"Host\": \"tecnoempleostatic.firebaseapp.com\",\n",
    "# \"User-Agent\": \"Mozilla/5.0 (Macintosh; Intel Mac OS X 10_15_7) AppleWebKit/605.1.15 (KHTML, like Gecko) Version/15.2 Safari/605.1.15\",\n",
    "# \"Referer\": \"https://www.infojobs.net/jobsearch/search-results/list.xhtml?keyword=developer&normalizedJobTitleIds=&provinceIds=33&cityIds=&teleworkingIds=&categoryIds=&workdayIds=&educationIds=&segmentId=&contractTypeIds=&page=4&sortBy=PUBLICATION_DATE&onlyForeignCountry=false&countryIds=&sinceDate=ANY&subcategoryIds=\",\n",
    "# \"Connection\": 'keep-alive'\n",
    "}\n",
    "query = {\n",
    "    'pagina': 2\n",
    "}\n",
    "\n",
    "cookie = \"PHPSESSID=58dqj9hr0p9hg889n6s5jlvt8l; mycookie=haycookie; te_sesion_token=a61d85eead085c37da069d012a563c1d%215572e413370a5f5c72f508eadf9a141ec2931b5fd0dc96f2a68a94b7b2cf82ec\"\n",
    "\n",
    "data = requests.get(\"https://www.tecnoempleo.com/ofertas-trabajo/\", params=query, headers=header ,cookies=tools.cookie_split(cookie))\n"
   ]
  },
  {
   "cell_type": "code",
   "execution_count": 41,
   "metadata": {},
   "outputs": [],
   "source": [
    "import json\n",
    "\n",
    "info = data.content.decode()\n",
    "\n",
    "soup = BeautifulSoup(info, 'html.parser')\n",
    "result = []\n",
    "for i, item in enumerate(soup.find_all('h3')):\n",
    "    try:\n",
    "        result.append({\n",
    "            'url': item.a['href'],\n",
    "            'name': item.a['title']\n",
    "        })\n",
    "    except KeyError:\n",
    "        pass\n",
    "    \n",
    "len(result)"
   ]
  }
 ],
 "metadata": {
  "kernelspec": {
   "display_name": "Python 3.10.6 ('pro-linkedin-MdEJC0SH')",
   "language": "python",
   "name": "python3"
  },
  "language_info": {
   "codemirror_mode": {
    "name": "ipython",
    "version": 3
   },
   "file_extension": ".py",
   "mimetype": "text/x-python",
   "name": "python",
   "nbconvert_exporter": "python",
   "pygments_lexer": "ipython3",
   "version": "3.10.8"
  },
  "orig_nbformat": 4,
  "vscode": {
   "interpreter": {
    "hash": "4808b98d7ca9a7423f922378003215582876f9af3df7745cfd1d269238edfebf"
   }
  }
 },
 "nbformat": 4,
 "nbformat_minor": 2
}

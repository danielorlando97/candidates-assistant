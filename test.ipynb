{
 "cells": [
  {
   "cell_type": "code",
   "execution_count": null,
   "metadata": {},
   "outputs": [],
   "source": [
    "import PyPDF2\n",
    " \n",
    "file = open('test.pdf','rb')\n",
    "pdfReader = PyPDF2.PdfFileReader(file)\n",
    "  \n",
    "# printing number of pages in pdf file\n",
    "print(\"Total number of pages in sample.pdf\",pdfReader.numPages)\n",
    "  \n",
    "# creating a page object\n",
    "a= pdfReader.get_form_text_fields()\n",
    "pageObj = pdfReader.getPage(0)\n",
    "test = pageObj.extractText()\n",
    "# extracting text from page\n",
    "\n",
    "# closing the pdf file object\n",
    "file.close()\n",
    "\n",
    "test"
   ]
  },
  {
   "cell_type": "code",
   "execution_count": null,
   "metadata": {},
   "outputs": [],
   "source": [
    "from pdfminer.high_level import extract_pages\n",
    "for page_layout in extract_pages(\"test.pdf\"):\n",
    "    for element in page_layout:\n",
    "        print(element)"
   ]
  },
  {
   "cell_type": "code",
   "execution_count": null,
   "metadata": {},
   "outputs": [],
   "source": [
    "from pdfminer.high_level import extract_pages\n",
    "from pdfminer.layout import LTTextContainer\n",
    "for page_layout in extract_pages(\"test.pdf\"):\n",
    "    for element in page_layout:\n",
    "        if isinstance(element, LTTextContainer):\n",
    "            print(element.get_text())"
   ]
  },
  {
   "cell_type": "code",
   "execution_count": 1,
   "metadata": {},
   "outputs": [
    {
     "name": "stdout",
     "output_type": "stream",
     "text": [
      "=========== GetOnBoard Scraper are Finding 2 list of jobs ======================\n",
      "=========== Iter N.0 is Loading 25 jobs ================================\n",
      "=========== Iter N.25 is Loading 25 jobs ================================\n",
      "=========== It's Mapping to Summary Jobs ================================\n"
     ]
    },
    {
     "data": {
      "text/plain": [
       "50"
      ]
     },
     "execution_count": 1,
     "metadata": {},
     "output_type": "execute_result"
    }
   ],
   "source": [
    "from scrapers.get_on_board import GetOnBoardScraper\n",
    "\n",
    "scraper = GetOnBoardScraper()\n",
    "result = scraper.get_many_jobs(2)\n",
    "len(result)"
   ]
  },
  {
   "cell_type": "code",
   "execution_count": 2,
   "metadata": {},
   "outputs": [
    {
     "name": "stdout",
     "output_type": "stream",
     "text": [
      "=========== GetOnBoard Scraper are Finding Details for 36032 - https://www.getonbrd.com/empleos/programacion/back-end-developer-airnguru-remote-d441 ======================\n",
      "=========== GetOnBoard Scraper are Finding Details for 36305 - https://www.getonbrd.com/empleos/operaciones-management/account-receivable-coordinator-sumup-remote ======================\n",
      "=========== GetOnBoard Scraper are Finding Details for 36324 - https://www.getonbrd.com/empleos/sysadmin-devops-qa/qa-automation-selenium-leniolabs_-remote ======================\n",
      "=========== GetOnBoard Scraper are Finding Details for 35871 - https://www.getonbrd.com/empleos/programacion/software-development-team-lead-passport-shipping-remote ======================\n",
      "=========== GetOnBoard Scraper are Finding Details for 33910 - https://www.getonbrd.com/empleos/programacion/senior-software-engineer-golang-sumup-remote ======================\n",
      "=========== GetOnBoard Scraper are Finding Details for 35194 - https://www.getonbrd.com/empleos/sysadmin-devops-qa/analista-qa-empresas-sb-santiago ======================\n",
      "=========== GetOnBoard Scraper are Finding Details for 36203 - https://www.getonbrd.com/empleos/programacion/jefe-de-refactoring-decoupling-y-rpa-empresas-sb-santiago ======================\n",
      "=========== GetOnBoard Scraper are Finding Details for 36119 - https://www.getonbrd.com/empleos/programacion/sr-full-stack-developer-java-angular-truelogic-software-remote ======================\n",
      "=========== GetOnBoard Scraper are Finding Details for 36152 - https://www.getonbrd.com/empleos/programacion/sr-fullstack-drupal-developer-truelogic-software-remote ======================\n",
      "=========== GetOnBoard Scraper are Finding Details for 36227 - https://www.getonbrd.com/empleos/data-science-analytics/dba-multicaja-santiago ======================\n",
      "=========== GetOnBoard Scraper are Finding Details for 36292 - https://www.getonbrd.com/empleos/programacion/operador-mesa-de-servicio-multicaja-santiago ======================\n",
      "=========== GetOnBoard Scraper are Finding Details for 35856 - https://www.getonbrd.com/empleos/sysadmin-devops-qa/site-reliability-engineer-sre-sofka-technologies-remote ======================\n",
      "=========== GetOnBoard Scraper are Finding Details for 34711 - https://www.getonbrd.com/empleos/programacion/fullstack-engineer-openloop-lima-a93b ======================\n",
      "=========== GetOnBoard Scraper are Finding Details for 36246 - https://www.getonbrd.com/empleos/programacion/software-engineer-senior-vacasa-remote-3658 ======================\n",
      "=========== GetOnBoard Scraper are Finding Details for 34385 - https://www.getonbrd.com/empleos/sysadmin-devops-qa/jefe-a-qa-empresas-sb-santiago ======================\n",
      "=========== GetOnBoard Scraper are Finding Details for 34675 - https://www.getonbrd.com/empleos/programacion/desarrollador-backend-microservicio-empresas-sb-santiago ======================\n",
      "=========== GetOnBoard Scraper are Finding Details for 34683 - https://www.getonbrd.com/empleos/programacion/desarrollador-frontend-web-empresas-sb-santiago ======================\n",
      "=========== GetOnBoard Scraper are Finding Details for 35930 - https://www.getonbrd.com/empleos/sysadmin-devops-qa/senior-devops-engineer-aws-softserve-remote ======================\n",
      "=========== GetOnBoard Scraper are Finding Details for 35926 - https://www.getonbrd.com/empleos/programacion/middle-graphics-software-engineer-softserve-remote ======================\n",
      "=========== GetOnBoard Scraper are Finding Details for 35929 - https://www.getonbrd.com/empleos/programacion/middle-build-engineer-softserve-remote ======================\n",
      "=========== GetOnBoard Scraper are Finding Details for 35927 - https://www.getonbrd.com/empleos/programacion/lead-net-software-engineer-softserve-remote ======================\n",
      "=========== GetOnBoard Scraper are Finding Details for 35928 - https://www.getonbrd.com/empleos/programacion/senior-net-software-engineer-softserve-remote ======================\n",
      "=========== GetOnBoard Scraper are Finding Details for 36149 - https://www.getonbrd.com/empleos/programacion/qc-engineer-softserve-remote ======================\n",
      "=========== GetOnBoard Scraper are Finding Details for 35806 - https://www.getonbrd.com/empleos/programacion/senior-full-stack-engineer-c-net-react-softserve-santiago ======================\n",
      "=========== GetOnBoard Scraper are Finding Details for 35600 - https://www.getonbrd.com/empleos/servicio-cliente/it-support-admin-synopsys-santiago ======================\n",
      "=========== GetOnBoard Scraper are Finding Details for 36020 - https://www.getonbrd.com/empleos/sysadmin-devops-qa/senior-software-engineer-cloud-development-softserve-santiago ======================\n",
      "=========== GetOnBoard Scraper are Finding Details for 36015 - https://www.getonbrd.com/empleos/sysadmin-devops-qa/qa-automation-ruby-softserve-remote ======================\n",
      "=========== GetOnBoard Scraper are Finding Details for 35765 - https://www.getonbrd.com/empleos/programacion/desarrollador-back-end-senior-pegasus-remote ======================\n",
      "=========== GetOnBoard Scraper are Finding Details for 35833 - https://www.getonbrd.com/empleos/programacion/fullstack-backend-merapar-remote ======================\n",
      "=========== GetOnBoard Scraper are Finding Details for 36161 - https://www.getonbrd.com/empleos/sysadmin-devops-qa/qa-automatizador-centro-medico-del-trabajador-santiago ======================\n",
      "=========== GetOnBoard Scraper are Finding Details for 36108 - https://www.getonbrd.com/empleos/programacion/remote-dev-ops-trem-group-remote ======================\n",
      "=========== GetOnBoard Scraper are Finding Details for 36216 - https://www.getonbrd.com/empleos/diseno-ux/ux-ux-designer-bice-vida-santiago ======================\n",
      "=========== GetOnBoard Scraper are Finding Details for 36440 - https://www.getonbrd.com/empleos/programacion/senior-full-stack-developer-vue-python-dja-devsu-remote ======================\n"
     ]
    }
   ],
   "source": [
    "details = []\n",
    "for job in result:\n",
    "    job = scraper.get_details_for_job(job)\n",
    "    details.append(job)"
   ]
  },
  {
   "cell_type": "code",
   "execution_count": 33,
   "metadata": {},
   "outputs": [],
   "source": [
    "from db import DBMongoClient\n",
    "\n",
    "mongo = DBMongoClient()\n",
    "mongo.insert_jobs(details) "
   ]
  },
  {
   "cell_type": "code",
   "execution_count": 43,
   "metadata": {},
   "outputs": [
    {
     "name": "stdout",
     "output_type": "stream",
     "text": [
      "We believe in the everyday hero. Small business owners are at the heart of all we do, so we create powerful, easy-to-use financial solutions to help them run their businesses. With a founder’s mentality and a 'team-first’ attitude, our diverse teams across Europe, South America and the United States work together to ensure that the small business owners we partner with can be successful doing what they love. As part of our vision to become a truly global Engineering & Product org, we have started to build out local, autonomous, cross-functional squads that can take any aspect of our product and take it from concept to production with full autonomy. As a Software Engineer, you will be a part of our new squad in Chile, giving the freedom to experiment with new things and apply your ideas in our products.In SumUp we see value in working side by side with our teams, cultivating our culture and giving space for the spontaneity of the day to day; ¡this is why our work dynamic is hybrid!\n",
      "Funciones del cargo\n",
      "What you'll do\n",
      "Participate in API design and implementation for both internal APIs and those exposed to our third-party integrators;\n",
      "Provide thoughtful and comprehensive documentation and testing for your features before shipping them;\n",
      "Design, implement, and iteratively improve new services and systems;\n",
      "Collaborate with other Software, QA and DevOps engineers to ensure smooth deployment, continual operation and support for quality software;\n",
      "Coach and mentor other engineers to increase their abilities and productivity;\n",
      "Actively provide code review feedback to other software engineers, considering both style and implementation;\n",
      "Interact daily with our different areas bringing technical perspective for each new feature, but also taking into account the business value added on it.\n",
      "Requerimientos del cargo\n",
      "You'll be great for this position if\n",
      "You have at least 5 years of experience and 2 with Golang and/or Ruby;\n",
      "You have good English communication skills, both speaking and writing. Portuguese is a plus;\n",
      "You have experience with Git and SQL (PostgreSQL);\n",
      "You have solid debugging and problem-solving skills;\n",
      "You're familiar with Agile Methodologies (Scrum or Kanban).\n",
      "Condiciones\n",
      "Why you should join SumUp\n",
      "We’re a truly global team of 3000+ people from 60+ countries, spread across 3 continents.\n",
      "You'll be part of an amazing team and work environment that works with passion and purpose to achieve incredible results.\n",
      "You'll have the opportunity to make an impact as we work in flat hierarchies.\n",
      "We have flexible working hours - you make your own schedule and have the freedom to align with the team if you want to work from home.\n",
      "We have competitive compensation and great benefits\n",
      "Wellness program\n",
      "SumUp offers or subsidies mental and/or physical health activities.\n",
      "Accessible\n",
      "An infrastructure adequate for people with special mobility needs.\n",
      "Pet-friendly\n",
      "Pets are welcome at the premises.\n",
      "Equity offered\n",
      "This position includes equity compensation (in the form of stock options or another mechanism).\n",
      "Flexible hours\n",
      "Flexible schedule and freedom for attending family needs or personal errands.\n",
      "Bicycle parking\n",
      "You can park your bicycle for free inside the premises.\n",
      "Health coverage\n",
      "SumUp pays or copays health insurance for employees.\n",
      "Company retreats\n",
      "Team-building activities outside the premises.\n",
      "Computer repairs\n",
      "SumUp covers some computer repair expenses.\n",
      "Commuting stipend\n",
      "SumUp offers a stipend to cover some commuting costs.\n",
      "Computer provided\n",
      "SumUp provides a computer for your work.\n",
      "Education stipend\n",
      "SumUp covers some educational expenses related to the position.\n",
      "Performance bonus\n",
      "Extra compensation is offered upon meeting performance goals.\n",
      "Informal dress code\n",
      "No dress code is enforced.\n",
      "Recreational areas\n",
      "Space for games or sports.\n",
      "Vacation over legal\n",
      "SumUp gives you paid vacations over the legal minimum.\n",
      "Beverages and snacks\n",
      "SumUp offers beverages and snacks for free consumption.\n",
      "Vacation on birthday\n",
      "Your birthday counts as an extra day of vacation.\n",
      "Parental leave over legal\n",
      "SumUp offers paid parental leave over the legal minimum.\n",
      "[\"We believe in the everyday hero. Small business owners are at the heart of all we do, so we create powerful, easy-to-use financial solutions to help them run their businesses. With a founder’s mentality and a 'team-first’ attitude, our diverse teams across Europe, South America and the United States work together to ensure that the small business owners we partner with can be successful doing what they love. As part of our vision to become a truly global Engineering & Product org, we have started to build out local, autonomous, cross-functional squads that can take any aspect of our product and take it from concept to production with full autonomy. As a Software Engineer, you will be a part of our new squad in Chile, giving the freedom to experiment with new things and apply your ideas in our products.In SumUp we see value in working side by side with our teams, cultivating our culture and giving space for the spontaneity of the day to day; ¡this is why our work dynamic is hybrid!\", 'Funciones del cargo', \"What you'll do\", 'Participate in API design and implementation for both internal APIs and those exposed to our third-party integrators;', 'Provide thoughtful and comprehensive documentation and testing for your features before shipping them;', 'Design, implement, and iteratively improve new services and systems;', 'Collaborate with other Software, QA and DevOps engineers to ensure smooth deployment, continual operation and support for quality software;', 'Coach and mentor other engineers to increase their abilities and productivity;', 'Actively provide code review feedback to other software engineers, considering both style and implementation;', 'Interact daily with our different areas bringing technical perspective for each new feature, but also taking into account the business value added on it.', 'Requerimientos del cargo', \"You'll be great for this position if\", 'You have at least 5 years of experience and 2 with Golang and/or Ruby;', 'You have good English communication skills, both speaking and writing. Portuguese is a plus;', 'You have experience with Git and SQL (PostgreSQL);', 'You have solid debugging and problem-solving skills;', \"You're familiar with Agile Methodologies (Scrum or Kanban).\", 'Condiciones', 'Why you should join SumUp', 'We’re a truly global team of 3000+ people from 60+ countries, spread across 3 continents.', \"You'll be part of an amazing team and work environment that works with passion and purpose to achieve incredible results.\", \"You'll have the opportunity to make an impact as we work in flat hierarchies.\", 'We have flexible working hours - you make your own schedule and have the freedom to align with the team if you want to work from home.', 'We have competitive compensation and great benefits', 'Wellness program', 'SumUp offers or subsidies mental and/or physical health activities.', 'Accessible', 'An infrastructure adequate for people with special mobility needs.', 'Pet-friendly', 'Pets are welcome at the premises.', 'Equity offered', 'This position includes equity compensation (in the form of stock options or another mechanism).', 'Flexible hours', 'Flexible schedule and freedom for attending family needs or personal errands.', 'Bicycle parking', 'You can park your bicycle for free inside the premises.', 'Health coverage', 'SumUp pays or copays health insurance for employees.', 'Company retreats', 'Team-building activities outside the premises.', 'Computer repairs', 'SumUp covers some computer repair expenses.', 'Commuting stipend', 'SumUp offers a stipend to cover some commuting costs.', 'Computer provided', 'SumUp provides a computer for your work.', 'Education stipend', 'SumUp covers some educational expenses related to the position.', 'Performance bonus', 'Extra compensation is offered upon meeting performance goals.', 'Informal dress code', 'No dress code is enforced.', 'Recreational areas', 'Space for games or sports.', 'Vacation over legal', 'SumUp gives you paid vacations over the legal minimum.', 'Beverages and snacks', 'SumUp offers beverages and snacks for free consumption.', 'Vacation on birthday', 'Your birthday counts as an extra day of vacation.', 'Parental leave over legal', 'SumUp offers paid parental leave over the legal minimum.']\n"
     ]
    }
   ],
   "source": [
    "from bs4 import BeautifulSoup\n",
    "\n",
    "html = data[0][\"html\"]\n",
    "\n",
    "soup = BeautifulSoup(html, 'html.parser')\n",
    "soup = soup.find(\"div\", {\"id\": \"job-body\", \"itemprop\":'description'})\n",
    "test = [ ch for ch in soup.get_text().split('\\n') if ch != '']\n",
    "\n",
    "print('\\n'.join(test))\n",
    "print(test)"
   ]
  },
  {
   "cell_type": "code",
   "execution_count": null,
   "metadata": {},
   "outputs": [],
   "source": []
  }
 ],
 "metadata": {
  "kernelspec": {
   "display_name": "Python 3.10.6 ('pro-linkedin-MdEJC0SH')",
   "language": "python",
   "name": "python3"
  },
  "language_info": {
   "codemirror_mode": {
    "name": "ipython",
    "version": 3
   },
   "file_extension": ".py",
   "mimetype": "text/x-python",
   "name": "python",
   "nbconvert_exporter": "python",
   "pygments_lexer": "ipython3",
   "version": "3.10.8"
  },
  "orig_nbformat": 4,
  "vscode": {
   "interpreter": {
    "hash": "4808b98d7ca9a7423f922378003215582876f9af3df7745cfd1d269238edfebf"
   }
  }
 },
 "nbformat": 4,
 "nbformat_minor": 2
}
